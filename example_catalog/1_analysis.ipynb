{
 "cells": [
  {
   "cell_type": "code",
   "execution_count": null,
   "id": "abe4dda1-3031-4309-b3d6-19812f15d5b3",
   "metadata": {
    "tags": []
   },
   "outputs": [],
   "source": [
    "%reload_ext autoreload\n",
    "%autoreload 2\n",
    "\n",
    "\n",
    "import hsccat\n",
    "import numpy as np # numerical calculations\n",
    "import matplotlib.pylab as plt #for plotting\n",
    "import astropy.io.fits as pyfits # read and write catalog"
   ]
  },
  {
   "cell_type": "code",
   "execution_count": null,
   "id": "8c1d3a45-ad09-490b-ab84-201e732fa86f",
   "metadata": {
    "tags": []
   },
   "outputs": [],
   "source": [
    "# read the data\n",
    "data = pyfits.getdata('./dr3.fits') # read the example data"
   ]
  },
  {
   "cell_type": "code",
   "execution_count": null,
   "id": "ba5d7256-b999-473b-be67-0f1e0147f7e5",
   "metadata": {
    "tags": []
   },
   "outputs": [],
   "source": [
    "# normaly we apply some cuts based on the following quantities\n",
    "resolution = hsccat.get_sdss_resolution(data) # e.g., reslution > 0.3\n",
    "snr = hsccat.get_snr(data) # e.g., SNR > 15\n",
    "logb = hsccat.get_log_blendness(data) # e.g., logb<-0.4\n",
    "imag = hsccat.get_mag(data, \"i\") # e.g, mag < 24.5\n",
    "rmag = hsccat.get_mag(data, band=\"r\")\n",
    "z = data['photoz_best']  # e.g., z <2.0"
   ]
  },
  {
   "cell_type": "code",
   "execution_count": null,
   "id": "542c3e95-4b86-452a-b13c-883d9f2f5cb7",
   "metadata": {
    "tags": []
   },
   "outputs": [],
   "source": [
    "# other useful information\n",
    "sfr = data['sfr'] # star formation rate\n",
    "mass = data['stellar_mass'] # stellar mass\n",
    "angle = hsccat.get_inc_angle(data) # not sure whether this is correct"
   ]
  }
 ],
 "metadata": {
  "kernelspec": {
   "display_name": "Python 3 (ipykernel)",
   "language": "python",
   "name": "python3"
  },
  "language_info": {
   "codemirror_mode": {
    "name": "ipython",
    "version": 3
   },
   "file_extension": ".py",
   "mimetype": "text/x-python",
   "name": "python",
   "nbconvert_exporter": "python",
   "pygments_lexer": "ipython3",
   "version": "3.9.16"
  }
 },
 "nbformat": 4,
 "nbformat_minor": 5
}
